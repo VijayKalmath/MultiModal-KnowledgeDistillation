{
 "cells": [
  {
   "cell_type": "code",
   "execution_count": 184,
   "id": "e71c364d",
   "metadata": {},
   "outputs": [],
   "source": [
    "import pandas as pd"
   ]
  },
  {
   "cell_type": "code",
   "execution_count": 185,
   "id": "74941622",
   "metadata": {},
   "outputs": [],
   "source": [
    "accuracies = pd.read_csv(\"result.csv\")"
   ]
  },
  {
   "cell_type": "code",
   "execution_count": 186,
   "id": "734a53f1",
   "metadata": {},
   "outputs": [],
   "source": [
    "accuracies = accuracies.drop(columns=['CIFAR100'])"
   ]
  },
  {
   "cell_type": "code",
   "execution_count": null,
   "id": "bb06d6d2",
   "metadata": {},
   "outputs": [],
   "source": []
  },
  {
   "cell_type": "code",
   "execution_count": 187,
   "id": "a498d9ff",
   "metadata": {},
   "outputs": [],
   "source": [
    "accuracies = accuracies.melt(id_vars=[\"Model\",], \n",
    "        var_name=\"Dataset\", \n",
    "        value_name=\"Accuracy\")"
   ]
  },
  {
   "cell_type": "code",
   "execution_count": 188,
   "id": "fe2b7512",
   "metadata": {},
   "outputs": [
    {
     "data": {
      "text/html": [
       "<div>\n",
       "<style scoped>\n",
       "    .dataframe tbody tr th:only-of-type {\n",
       "        vertical-align: middle;\n",
       "    }\n",
       "\n",
       "    .dataframe tbody tr th {\n",
       "        vertical-align: top;\n",
       "    }\n",
       "\n",
       "    .dataframe thead th {\n",
       "        text-align: right;\n",
       "    }\n",
       "</style>\n",
       "<table border=\"1\" class=\"dataframe\">\n",
       "  <thead>\n",
       "    <tr style=\"text-align: right;\">\n",
       "      <th></th>\n",
       "      <th>Model</th>\n",
       "      <th>Dataset</th>\n",
       "      <th>Accuracy</th>\n",
       "    </tr>\n",
       "  </thead>\n",
       "  <tbody>\n",
       "    <tr>\n",
       "      <th>16</th>\n",
       "      <td>V+T MSE+Cosine</td>\n",
       "      <td>STL10</td>\n",
       "      <td>56.16</td>\n",
       "    </tr>\n",
       "    <tr>\n",
       "      <th>1</th>\n",
       "      <td>Vision (V)</td>\n",
       "      <td>CIFAR10</td>\n",
       "      <td>54.83</td>\n",
       "    </tr>\n",
       "    <tr>\n",
       "      <th>6</th>\n",
       "      <td>V+T KLDivLoss</td>\n",
       "      <td>CIFAR10</td>\n",
       "      <td>53.08</td>\n",
       "    </tr>\n",
       "    <tr>\n",
       "      <th>7</th>\n",
       "      <td>V+T MSE+Cosine</td>\n",
       "      <td>CIFAR10</td>\n",
       "      <td>52.88</td>\n",
       "    </tr>\n",
       "    <tr>\n",
       "      <th>15</th>\n",
       "      <td>V+T KLDivLoss</td>\n",
       "      <td>STL10</td>\n",
       "      <td>52.71</td>\n",
       "    </tr>\n",
       "    <tr>\n",
       "      <th>10</th>\n",
       "      <td>Vision (V)</td>\n",
       "      <td>STL10</td>\n",
       "      <td>51.59</td>\n",
       "    </tr>\n",
       "    <tr>\n",
       "      <th>3</th>\n",
       "      <td>V+T Isolated</td>\n",
       "      <td>CIFAR10</td>\n",
       "      <td>51.49</td>\n",
       "    </tr>\n",
       "    <tr>\n",
       "      <th>12</th>\n",
       "      <td>V+T Isolated</td>\n",
       "      <td>STL10</td>\n",
       "      <td>50.84</td>\n",
       "    </tr>\n",
       "    <tr>\n",
       "      <th>0</th>\n",
       "      <td>CLIP - Limited Data</td>\n",
       "      <td>CIFAR10</td>\n",
       "      <td>50.08</td>\n",
       "    </tr>\n",
       "    <tr>\n",
       "      <th>14</th>\n",
       "      <td>V+T NST Loss</td>\n",
       "      <td>STL10</td>\n",
       "      <td>50.01</td>\n",
       "    </tr>\n",
       "    <tr>\n",
       "      <th>17</th>\n",
       "      <td>V+T Softmax-KLDivLoss</td>\n",
       "      <td>STL10</td>\n",
       "      <td>50.00</td>\n",
       "    </tr>\n",
       "    <tr>\n",
       "      <th>8</th>\n",
       "      <td>V+T Softmax-KLDivLoss</td>\n",
       "      <td>CIFAR10</td>\n",
       "      <td>50.00</td>\n",
       "    </tr>\n",
       "    <tr>\n",
       "      <th>4</th>\n",
       "      <td>V+T Combined</td>\n",
       "      <td>CIFAR10</td>\n",
       "      <td>50.00</td>\n",
       "    </tr>\n",
       "    <tr>\n",
       "      <th>9</th>\n",
       "      <td>CLIP - Limited Data</td>\n",
       "      <td>STL10</td>\n",
       "      <td>49.99</td>\n",
       "    </tr>\n",
       "    <tr>\n",
       "      <th>13</th>\n",
       "      <td>V+T Combined</td>\n",
       "      <td>STL10</td>\n",
       "      <td>48.44</td>\n",
       "    </tr>\n",
       "    <tr>\n",
       "      <th>5</th>\n",
       "      <td>V+T NST Loss</td>\n",
       "      <td>CIFAR10</td>\n",
       "      <td>47.50</td>\n",
       "    </tr>\n",
       "    <tr>\n",
       "      <th>2</th>\n",
       "      <td>Text (T)</td>\n",
       "      <td>CIFAR10</td>\n",
       "      <td>45.53</td>\n",
       "    </tr>\n",
       "    <tr>\n",
       "      <th>11</th>\n",
       "      <td>Text (T)</td>\n",
       "      <td>STL10</td>\n",
       "      <td>42.69</td>\n",
       "    </tr>\n",
       "  </tbody>\n",
       "</table>\n",
       "</div>"
      ],
      "text/plain": [
       "                    Model  Dataset  Accuracy\n",
       "16         V+T MSE+Cosine    STL10     56.16\n",
       "1              Vision (V)  CIFAR10     54.83\n",
       "6           V+T KLDivLoss  CIFAR10     53.08\n",
       "7          V+T MSE+Cosine  CIFAR10     52.88\n",
       "15          V+T KLDivLoss    STL10     52.71\n",
       "10             Vision (V)    STL10     51.59\n",
       "3            V+T Isolated  CIFAR10     51.49\n",
       "12           V+T Isolated    STL10     50.84\n",
       "0    CLIP - Limited Data   CIFAR10     50.08\n",
       "14           V+T NST Loss    STL10     50.01\n",
       "17  V+T Softmax-KLDivLoss    STL10     50.00\n",
       "8   V+T Softmax-KLDivLoss  CIFAR10     50.00\n",
       "4            V+T Combined  CIFAR10     50.00\n",
       "9    CLIP - Limited Data     STL10     49.99\n",
       "13           V+T Combined    STL10     48.44\n",
       "5            V+T NST Loss  CIFAR10     47.50\n",
       "2                Text (T)  CIFAR10     45.53\n",
       "11               Text (T)    STL10     42.69"
      ]
     },
     "execution_count": 188,
     "metadata": {},
     "output_type": "execute_result"
    }
   ],
   "source": [
    "accuracies.sort_values(by=\"Accuracy\",ascending=False)"
   ]
  },
  {
   "cell_type": "code",
   "execution_count": 201,
   "id": "d532f970",
   "metadata": {},
   "outputs": [
    {
     "data": {
      "image/png": "[encoded data removed]",
      "text/plain": [
       "<Figure size 908.6x504 with 1 Axes>"
      ]
     },
     "metadata": {
      "needs_background": "light"
     },
     "output_type": "display_data"
    }
   ],
   "source": [
    "sns.catplot(\n",
    "    data=accuracies, kind=\"bar\",\n",
    "    x=\"Model\", y=\"Accuracy\", hue=\"Dataset\",\n",
    " palette=\"dark\", alpha=.6, height=7,aspect=1.65\n",
    ")\n",
    "\n",
    "plt.xticks(rotation = 10); # Rotates X-Axis Ticks by 45-degrees\n",
    "\n",
    "plt.title(\"Accuracy of Distilled Models\");\n",
    "\n"
   ]
  },
  {
   "cell_type": "code",
   "execution_count": null,
   "id": "078ebae0",
   "metadata": {},
   "outputs": [],
   "source": []
  },
  {
   "cell_type": "code",
   "execution_count": 90,
   "id": "f39bb2a6",
   "metadata": {},
   "outputs": [],
   "source": [
    "import numpy as np "
   ]
  },
  {
   "cell_type": "code",
   "execution_count": 108,
   "id": "b5cdf424",
   "metadata": {},
   "outputs": [],
   "source": [
    "accuracies_np = np.array([]\n",
    "[50.08,4.95,49.99],\n",
    "[54.83,5.55,51.59],\n",
    "[45.53,6.07,42.69],\n",
    "[51.49,4.63,50.84],\n",
    "[50.00,5.23,48.44],\n",
    "[47.50,4.61,50.01],\n",
    "[53.08,5.18,52.71],\n",
    "[52.88,5.02,56.16],\n",
    "[50.00,5.18,50.0]])"
   ]
  },
  {
   "cell_type": "code",
   "execution_count": 116,
   "id": "2aa36a38",
   "metadata": {},
   "outputs": [],
   "source": [
    "model_name = [ 'CLIP - Limited Data ', 'Vision (V)',\n",
    "       'Text (T)', 'V+T Isolated', 'V+T Combined', 'NST Loss',\n",
    "       'KLDivLoss', 'MSE+Cosine', 'Softmax-KLDivLoss']"
   ]
  },
  {
   "cell_type": "code",
   "execution_count": 117,
   "id": "496e567b",
   "metadata": {},
   "outputs": [
    {
     "data": {
      "text/plain": [
       "['CLIP - Limited Data ',\n",
       " 'Vision (V)',\n",
       " 'Text (T)',\n",
       " 'V+T Isolated',\n",
       " 'V+T Combined',\n",
       " 'NST Loss',\n",
       " 'KLDivLoss',\n",
       " 'MSE+Cosine',\n",
       " 'Softmax-KLDivLoss']"
      ]
     },
     "execution_count": 117,
     "metadata": {},
     "output_type": "execute_result"
    }
   ],
   "source": [
    "model_name "
   ]
  },
  {
   "cell_type": "code",
   "execution_count": 118,
   "id": "84435734",
   "metadata": {},
   "outputs": [
    {
     "data": {
      "text/plain": [
       "array([[50.08,  4.95, 49.99],\n",
       "       [54.83,  5.55, 51.59],\n",
       "       [45.53,  6.07, 42.69],\n",
       "       [51.49,  4.63, 50.84],\n",
       "       [50.  ,  5.23, 48.44],\n",
       "       [47.5 ,  4.61, 50.01],\n",
       "       [53.08,  5.18, 52.71],\n",
       "       [52.88,  5.02, 56.16],\n",
       "       [50.  ,  5.18, 50.  ]])"
      ]
     },
     "execution_count": 118,
     "metadata": {},
     "output_type": "execute_result"
    }
   ],
   "source": [
    "accuracies_np"
   ]
  },
  {
   "cell_type": "code",
   "execution_count": 119,
   "id": "16bd3ed4",
   "metadata": {},
   "outputs": [],
   "source": [
    "import matplotlib.pyplot as plt "
   ]
  }
 ],
 "metadata": {
  "kernelspec": {
   "display_name": "Python 3",
   "language": "python",
   "name": "python3"
  },
  "language_info": {
   "codemirror_mode": {
    "name": "ipython",
    "version": 3
   },
   "file_extension": ".py",
   "mimetype": "text/x-python",
   "name": "python",
   "nbconvert_exporter": "python",
   "pygments_lexer": "ipython3",
   "version": "3.6.9"
  }
 },
 "nbformat": 4,
 "nbformat_minor": 5
}
