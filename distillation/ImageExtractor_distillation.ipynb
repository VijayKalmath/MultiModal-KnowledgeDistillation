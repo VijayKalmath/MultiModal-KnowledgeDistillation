{
 "cells": [
  {
   "cell_type": "code",
   "execution_count": null,
   "id": "87273e53",
   "metadata": {},
   "outputs": [],
   "source": [
    "import os\n",
    "import sys\n",
    "import numpy as np\n",
    "import torch\n",
    "\n",
    "from datetime import datetime\n",
    "from typing import Tuple\n",
    "\n",
    "from torch.nn import Module\n",
    "from torch.nn import KLDivLoss, CrossEntropyLoss, CosineEmbeddingLoss"
   ]
  },
  {
   "cell_type": "markdown",
   "id": "da9bd6d6",
   "metadata": {},
   "source": [
    "### Loading Teacher model ---> CLIP Image Extractor "
   ]
  },
  {
   "cell_type": "code",
   "execution_count": null,
   "id": "88cbfadc",
   "metadata": {},
   "outputs": [],
   "source": [
    "import clip\n",
    "\n",
    "model_name = \"ViT-B/32\"\n",
    "\n",
    "# model is the torch model.\n",
    "# preprocess function is for image preprocessing.\n",
    "\n",
    "model, preprocess = clip.load(model_name)\n",
    "\n",
    "# Get only the visual model\n",
    "teacher_model = model.visual\n",
    "input_resolution = model.visual.input_resolution\n",
    "\n",
    "print(\n",
    "    \"Model parameters:\",\n",
    "    f\"{np.sum([int(np.prod(p.shape)) for p in model.visual.parameters()]):,}\",\n",
    ")\n",
    "print(\"Input resolution:\", input_resolution)"
   ]
  },
  {
   "cell_type": "markdown",
   "id": "7896653c",
   "metadata": {},
   "source": [
    "### Instantiating Student model \n",
    "\n",
    "[VisionTransformer](https://github.com/openai/CLIP/blob/d50d76daa670286dd6cacf3bcd80b5e4823fc8e1/clip/model.py#L206)"
   ]
  },
  {
   "cell_type": "code",
   "execution_count": null,
   "id": "a1340820",
   "metadata": {},
   "outputs": [],
   "source": [
    "from clip.model import VisionTransformer\n",
    "\n",
    "# Set Student Configuration\n",
    "\n",
    "patch_size = 32\n",
    "width = 384\n",
    "layers = 6\n",
    "heads = 12\n",
    "output_dim = 512\n",
    "\n",
    "student_model = VisionTransformer(\n",
    "    input_resolution=input_resolution,\n",
    "    patch_size=patch_size,\n",
    "    width=width,\n",
    "    layers=layers,\n",
    "    heads=heads,\n",
    "    output_dim=output_dim,\n",
    ")"
   ]
  },
  {
   "cell_type": "markdown",
   "id": "a6debb0c",
   "metadata": {},
   "source": [
    "### Load the WIT Dataset"
   ]
  },
  {
   "cell_type": "code",
   "execution_count": null,
   "id": "c6383d10",
   "metadata": {},
   "outputs": [],
   "source": [
    "from concurrent.futures import ThreadPoolExecutor\n",
    "from functools import partial\n",
    "import io\n",
    "import urllib\n",
    "\n",
    "import PIL.Image\n",
    "\n",
    "from datasets import load_dataset\n",
    "from datasets.utils.file_utils import get_datasets_user_agent\n",
    "\n",
    "\n",
    "def fetch_single_image(image_url, timeout=None, retries=0):\n",
    "    for _ in range(retries + 1):\n",
    "        try:\n",
    "            request = urllib.request.Request(\n",
    "                image_url,\n",
    "                data=None,\n",
    "                headers={\"user-agent\": get_datasets_user_agent()},\n",
    "            )\n",
    "            with urllib.request.urlopen(request, timeout=timeout) as req:\n",
    "                image = PIL.Image.open(io.BytesIO(req.read()))\n",
    "            break\n",
    "        except Exception:\n",
    "            image = None\n",
    "    return image\n",
    "\n",
    "\n",
    "def fetch_images(batch, num_threads, timeout=None, retries=0):\n",
    "    fetch_single_image_with_args = partial(\n",
    "        fetch_single_image, timeout=timeout, retries=retries\n",
    "    )\n",
    "    with ThreadPoolExecutor(max_workers=num_threads) as executor:\n",
    "        batch[\"image\"] = list(\n",
    "            executor.map(fetch_single_image_with_args, batch[\"image_url\"])\n",
    "        )\n",
    "    return batch\n",
    "\n",
    "\n",
    "num_threads = 20\n",
    "dset = load_dataset(\"google/wit\")\n",
    "dset = dset.map(\n",
    "    fetch_images, batched=True, batch_size=100, fn_kwargs={\"num_threads\": num_threads}\n",
    ")"
   ]
  },
  {
   "cell_type": "code",
   "execution_count": null,
   "id": "609fd86d",
   "metadata": {},
   "outputs": [],
   "source": [
    "class DistillationTrainer:\n",
    "    def __init__(self, *args, **kwargs):\n",
    "        self.teacher = teacher_model\n",
    "        self.student = student_model\n",
    "        self.train_dataloader = train_dataloader\n",
    "\n",
    "        self.device = torch.device(\"cuda\" if torch.cuda.is_available() else \"cpu\")\n",
    "        self.teacher = self.teacher.to(self.device)\n",
    "        self.student = self.student.to(self.device)\n",
    "        self.teacher.eval()\n",
    "\n",
    "        self.epochs = 30\n",
    "        self.start_epoch = 1\n",
    "\n",
    "        # set up optimizer\n",
    "        self.optimizer = Adam(self.student.parameters())\n",
    "\n",
    "        # Set up LR Scheduler\n",
    "        self.lr_scheduler = ReduceLROnPlateau(self.optimizer, \"min\")\n",
    "\n",
    "    def compute_loss(self, images, return_outputs=False):\n",
    "        images = images.to(self.device)\n",
    "\n",
    "        outputs_student = self.student(**inputs)\n",
    "\n",
    "        # compute teacher output\n",
    "        with torch.no_grad():\n",
    "            outputs_teacher = self.teacher(**inputs)\n",
    "\n",
    "        # assert size\n",
    "        assert outputs_student.logits.size() == outputs_teacher.logits.size()\n",
    "\n",
    "        # Soften probabilities and compute distillation loss\n",
    "\n",
    "        # KL Divergence Loss\n",
    "        kl_loss = KLDivLoss(reduction=\"batchmean\")\n",
    "        loss = kl_loss(student_output, teacher_output)\n",
    "        # Cosine loss\n",
    "        loss = loss + CosineEmbeddingLoss()(\n",
    "            teacher_output, student_output, torch.ones(teacher_output.size()[0])\n",
    "        )\n",
    "\n",
    "        return (loss, outputs_student) if return_outputs else loss\n",
    "\n",
    "    def train(self, model, inputs):\n",
    "        for epoch in range(self.start_epoch, self.epochs + 1):\n",
    "            loss_value = self._train_epoch(epoch)\n",
    "            print(f\"KLD-CosineLoss after {epoch} Epoch is {loss_value}\")\n",
    "\n",
    "    def _train_epoch(self, epoch):\n",
    "        loss_value = 0\n",
    "        for batch_idx, (images, _, _) in enumerate(self.train_dataloader):\n",
    "            loss = compute_loss(self, images)\n",
    "            loss_value += loss\n",
    "\n",
    "            self.optimizer.zero_grad()\n",
    "            loss.backward()\n",
    "            self.optimizer.step()\n",
    "\n",
    "            if batch_idx % 10 == 0:\n",
    "                print(f\"Loss after {batch_idx} Batch is {loss_value/(batch_idx+1)} \")\n",
    "\n",
    "        return loss_value.detach().cpu().numpy() / len(self.train_dataloader)"
   ]
  },
  {
   "cell_type": "code",
   "execution_count": null,
   "id": "63c467ea",
   "metadata": {},
   "outputs": [],
   "source": [
    "Trainer = DistillationTrainer(\n",
    "    teacher_model=teacher_model,\n",
    "    student_model=student_model,\n",
    "    train_dataloader=train_dataloader\n",
    ")"
   ]
  },
  {
   "cell_type": "code",
   "execution_count": null,
   "id": "c83373ae",
   "metadata": {},
   "outputs": [],
   "source": [
    "Trainer.train()"
   ]
  },
  {
   "cell_type": "code",
   "execution_count": null,
   "id": "1a3c9953",
   "metadata": {},
   "outputs": [],
   "source": [
    "# torch.save(\n",
    "#     {\n",
    "#         \"distilbert\": student_distil_bert.state_dict(),\n",
    "#     },\n",
    "#     f\"distiled_distilbert_sst2_{datetime.now():%Y-%m-%d_%H-%M-%S%z}.pt\",\n",
    "# )"
   ]
  }
 ],
 "metadata": {
  "kernelspec": {
   "display_name": "Python 3",
   "language": "python",
   "name": "python3"
  },
  "language_info": {
   "codemirror_mode": {
    "name": "ipython",
    "version": 3
   },
   "file_extension": ".py",
   "mimetype": "text/x-python",
   "name": "python",
   "nbconvert_exporter": "python",
   "pygments_lexer": "ipython3",
   "version": "3.6.9"
  }
 },
 "nbformat": 4,
 "nbformat_minor": 5
}
